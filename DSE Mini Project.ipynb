{
 "cells": [
  {
   "cell_type": "markdown",
   "id": "172af83b",
   "metadata": {},
   "source": [
    "# DSE Mini Project"
   ]
  },
  {
   "cell_type": "markdown",
   "id": "329dd0e7",
   "metadata": {},
   "source": [
    "First, data in csv files are read into DataFrame."
   ]
  },
  {
   "cell_type": "code",
   "execution_count": 344,
   "id": "ac89cd4c",
   "metadata": {},
   "outputs": [],
   "source": [
    "import pandas as pd\n",
    "import matplotlib.pyplot as plt\n",
    "\n",
    "# read data from csv\n",
    "customers = pd.read_csv(\"data/customers_dataset.csv\")\n",
    "geolocation = pd.read_csv(\"data/geolocation_dataset.csv\")\n",
    "order_items = pd.read_csv(\"data/order_items_dataset.csv\")\n",
    "order_payments = pd.read_csv(\"data/order_payments_dataset.csv\")\n",
    "order_reviews = pd.read_csv(\"data/order_reviews_dataset.csv\")\n",
    "orders = pd.read_csv(\"data/orders_dataset.csv\")\n",
    "product_category = pd.read_csv(\"data/product_category_name_translation.csv\")\n",
    "products = pd.read_csv(\"data/products_dataset.csv\")\n",
    "sellers = pd.read_csv(\"data/sellers_dataset.csv\")"
   ]
  },
  {
   "cell_type": "markdown",
   "id": "32716a40",
   "metadata": {},
   "source": [
    "Next, duplicates data in each DataFrame will be removed."
   ]
  },
  {
   "cell_type": "code",
   "execution_count": 345,
   "id": "ab669665",
   "metadata": {},
   "outputs": [],
   "source": [
    "# drop duplicates\n",
    "customers.drop_duplicates(inplace=True)\n",
    "geolocation.drop_duplicates(inplace=True)\n",
    "order_items.drop_duplicates(inplace=True)\n",
    "order_payments.drop_duplicates(inplace=True)\n",
    "order_reviews.drop_duplicates(inplace=True)\n",
    "orders.drop_duplicates(inplace=True)\n",
    "product_category.drop_duplicates(inplace=True)\n",
    "products.drop_duplicates(inplace=True)\n",
    "sellers.drop_duplicates(inplace=True)"
   ]
  },
  {
   "cell_type": "markdown",
   "id": "cc05b6c0",
   "metadata": {},
   "source": [
    "In order to analyse data in depth, related DataFrames will be merged into one.\n",
    "\n",
    "We will be mainly working on orders (orders and order_items), products (products and product_category), customers and sellers data."
   ]
  },
  {
   "cell_type": "code",
   "execution_count": 346,
   "id": "8fff96a6",
   "metadata": {
    "scrolled": true
   },
   "outputs": [],
   "source": [
    "# merge data\n",
    "# main dataset\n",
    "df = pd.merge(left=orders, right=order_items, on='order_id', how='inner')\n",
    "df = df.merge(products, on='product_id', how='left')\n",
    "df = df.merge(product_category, on='product_category_name', how='left')\n",
    "df = df.merge(customers, on='customer_id', how='left')\n",
    "df = df.merge(sellers, on='seller_id', how='left')"
   ]
  },
  {
   "cell_type": "markdown",
   "id": "508603f5",
   "metadata": {},
   "source": [
    "Geolocation data have different latitude and longitude on same zip code prefix, city and state which is confusing, therefore we will get the mean to represent the location data for particular zip code prefix, city and state."
   ]
  },
  {
   "cell_type": "code",
   "execution_count": 347,
   "id": "3f0a17a1",
   "metadata": {},
   "outputs": [],
   "source": [
    "# get the mean of latitude and longitude group by zip code prefix, city and state\n",
    "geolocation_latlng_mean = geolocation.groupby(['geolocation_zip_code_prefix','geolocation_city','geolocation_state']).mean()\n",
    "# convert the group by columns (index) to individual columns\n",
    "geolocation_latlng_mean.reset_index(inplace=True)"
   ]
  },
  {
   "cell_type": "code",
   "execution_count": 348,
   "id": "8984e6a8",
   "metadata": {},
   "outputs": [
    {
     "data": {
      "text/html": [
       "<div>\n",
       "<style scoped>\n",
       "    .dataframe tbody tr th:only-of-type {\n",
       "        vertical-align: middle;\n",
       "    }\n",
       "\n",
       "    .dataframe tbody tr th {\n",
       "        vertical-align: top;\n",
       "    }\n",
       "\n",
       "    .dataframe thead th {\n",
       "        text-align: right;\n",
       "    }\n",
       "</style>\n",
       "<table border=\"1\" class=\"dataframe\">\n",
       "  <thead>\n",
       "    <tr style=\"text-align: right;\">\n",
       "      <th></th>\n",
       "      <th>geolocation_zip_code_prefix</th>\n",
       "      <th>geolocation_city</th>\n",
       "      <th>geolocation_state</th>\n",
       "      <th>geolocation_lat</th>\n",
       "      <th>geolocation_lng</th>\n",
       "    </tr>\n",
       "  </thead>\n",
       "  <tbody>\n",
       "    <tr>\n",
       "      <th>0</th>\n",
       "      <td>1001</td>\n",
       "      <td>sao paulo</td>\n",
       "      <td>SP</td>\n",
       "      <td>-23.550312</td>\n",
       "      <td>-46.634030</td>\n",
       "    </tr>\n",
       "    <tr>\n",
       "      <th>1</th>\n",
       "      <td>1001</td>\n",
       "      <td>são paulo</td>\n",
       "      <td>SP</td>\n",
       "      <td>-23.549998</td>\n",
       "      <td>-46.634060</td>\n",
       "    </tr>\n",
       "    <tr>\n",
       "      <th>24099</th>\n",
       "      <td>79750</td>\n",
       "      <td>nova andradina</td>\n",
       "      <td>MS</td>\n",
       "      <td>-22.248022</td>\n",
       "      <td>-53.347396</td>\n",
       "    </tr>\n",
       "    <tr>\n",
       "      <th>24100</th>\n",
       "      <td>79750</td>\n",
       "      <td>nova andradina</td>\n",
       "      <td>RS</td>\n",
       "      <td>-22.242062</td>\n",
       "      <td>-53.343159</td>\n",
       "    </tr>\n",
       "  </tbody>\n",
       "</table>\n",
       "</div>"
      ],
      "text/plain": [
       "       geolocation_zip_code_prefix geolocation_city geolocation_state  \\\n",
       "0                             1001        sao paulo                SP   \n",
       "1                             1001        são paulo                SP   \n",
       "24099                        79750   nova andradina                MS   \n",
       "24100                        79750   nova andradina                RS   \n",
       "\n",
       "       geolocation_lat  geolocation_lng  \n",
       "0           -23.550312       -46.634030  \n",
       "1           -23.549998       -46.634060  \n",
       "24099       -22.248022       -53.347396  \n",
       "24100       -22.242062       -53.343159  "
      ]
     },
     "execution_count": 348,
     "metadata": {},
     "output_type": "execute_result"
    }
   ],
   "source": [
    "#example data\n",
    "geolocation_latlng_mean[(geolocation_latlng_mean['geolocation_zip_code_prefix'] == 1001) | (geolocation_latlng_mean['geolocation_zip_code_prefix'] == 79750)]"
   ]
  },
  {
   "cell_type": "markdown",
   "id": "da2204a1",
   "metadata": {},
   "source": [
    "From above data we can still see that under one zip code prefix, there are different cities and states. Dropping either is not a good way as we don't know which data has the correct value. Instead, we will compare it against customers and sellers data to get the correct values."
   ]
  },
  {
   "cell_type": "code",
   "execution_count": 349,
   "id": "7e2623f2",
   "metadata": {},
   "outputs": [],
   "source": [
    "# merge geolocation for customer and seller (join with zip code prefix, city and state)\n",
    "df = df.merge(geolocation_latlng_mean, left_on=['customer_zip_code_prefix','customer_city','customer_state'], right_on=['geolocation_zip_code_prefix','geolocation_city','geolocation_state'], how='left')\n",
    "df = df.merge(geolocation_latlng_mean, left_on=['seller_zip_code_prefix','seller_city','seller_state'], right_on=['geolocation_zip_code_prefix','geolocation_city','geolocation_state'], how='left')\n",
    "\n",
    "# drop right joined columns (zip code prefix, state, city) since can viewed from left columns\n",
    "df.drop(['geolocation_zip_code_prefix_x','geolocation_city_x','geolocation_state_x','geolocation_zip_code_prefix_y','geolocation_city_y','geolocation_state_y'], inplace=True, axis=1)\n",
    "\n",
    "# rename columns suffix x to customer and y to seller for better understanding\n",
    "df.rename(columns={'geolocation_lat_x': 'customer_geolocation_lat', 'geolocation_lng_x': 'customer_geolocation_lng', 'geolocation_lat_y': 'seller_geolocation_lat', 'geolocation_lng_y': 'seller_geolocation_lng'}, inplace=True)"
   ]
  },
  {
   "cell_type": "markdown",
   "id": "58567a8e",
   "metadata": {},
   "source": [
    "An order can have multiple reviews and payments, therefore review and payment data are split to different dataset for easier analysis later."
   ]
  },
  {
   "cell_type": "code",
   "execution_count": 350,
   "id": "5343cb98",
   "metadata": {},
   "outputs": [],
   "source": [
    "# sub dataset\n",
    "df_review = df.merge(order_reviews, on='order_id', how='left')\n",
    "df_payment = df.merge(order_payments, on='order_id', how='left')"
   ]
  }
 ],
 "metadata": {
  "kernelspec": {
   "display_name": "Python 3 (ipykernel)",
   "language": "python",
   "name": "python3"
  },
  "language_info": {
   "codemirror_mode": {
    "name": "ipython",
    "version": 3
   },
   "file_extension": ".py",
   "mimetype": "text/x-python",
   "name": "python",
   "nbconvert_exporter": "python",
   "pygments_lexer": "ipython3",
   "version": "3.9.7"
  }
 },
 "nbformat": 4,
 "nbformat_minor": 5
}
